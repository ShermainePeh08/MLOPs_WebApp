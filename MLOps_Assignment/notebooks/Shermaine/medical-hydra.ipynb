{
 "cells": [
  {
   "cell_type": "code",
   "execution_count": 1,
   "id": "0b6f02f3",
   "metadata": {},
   "outputs": [
    {
     "ename": "NameError",
     "evalue": "name 'os' is not defined",
     "output_type": "error",
     "traceback": [
      "\u001b[1;31m---------------------------------------------------------------------------\u001b[0m",
      "\u001b[1;31mNameError\u001b[0m                                 Traceback (most recent call last)",
      "Cell \u001b[1;32mIn[1], line 69\u001b[0m\n\u001b[0;32m     65\u001b[0m     \u001b[38;5;28mprint\u001b[39m(best_pred)\n\u001b[0;32m     67\u001b[0m     evaluate_model(best_tuned_model)\n\u001b[1;32m---> 69\u001b[0m \u001b[43mprocess_train\u001b[49m\u001b[43m(\u001b[49m\u001b[43m)\u001b[49m\n",
      "Cell \u001b[1;32mIn[1], line 8\u001b[0m, in \u001b[0;36mprocess_train\u001b[1;34m()\u001b[0m\n\u001b[0;32m      5\u001b[0m root_directory \u001b[38;5;241m=\u001b[39m \u001b[38;5;124m\"\u001b[39m\u001b[38;5;124mC:/Github/MLOPs_WebApp/MLOps_Assignment\u001b[39m\u001b[38;5;124m\"\u001b[39m\n\u001b[0;32m      7\u001b[0m \u001b[38;5;66;03m# Construct the absolute path to the configuration directory\u001b[39;00m\n\u001b[1;32m----> 8\u001b[0m config_dir \u001b[38;5;241m=\u001b[39m \u001b[43mos\u001b[49m\u001b[38;5;241m.\u001b[39mpath\u001b[38;5;241m.\u001b[39mnormpath(os\u001b[38;5;241m.\u001b[39mpath\u001b[38;5;241m.\u001b[39mjoin(root_directory, \u001b[38;5;124m\"\u001b[39m\u001b[38;5;124mconfig\u001b[39m\u001b[38;5;124m\"\u001b[39m, \u001b[38;5;124m\"\u001b[39m\u001b[38;5;124mprocess\u001b[39m\u001b[38;5;124m\"\u001b[39m))\n\u001b[0;32m     10\u001b[0m \u001b[38;5;66;03m# Initialize the Hydra config directory\u001b[39;00m\n\u001b[0;32m     11\u001b[0m initialize_config_dir(config_dir\u001b[38;5;241m=\u001b[39mconfig_dir)\n",
      "\u001b[1;31mNameError\u001b[0m: name 'os' is not defined"
     ]
    }
   ],
   "source": [
    "def process_train():\n",
    "    \"\"\"Function to process the data\"\"\"\n",
    "    \n",
    "    # Specify the root directory where your MLOps project is located\n",
    "    root_directory = \"C:/Github/MLOPs_WebApp/MLOps_Assignment\"\n",
    "\n",
    "    # Construct the absolute path to the configuration directory\n",
    "    config_dir = os.path.normpath(os.path.join(root_directory, \"config\", \"process\"))\n",
    "\n",
    "    # Initialize the Hydra config directory\n",
    "    initialize_config_dir(config_dir=config_dir)\n",
    "\n",
    "    # Load the Hydra configuration\n",
    "    config = compose(config_name=\"process_Shermaine\")\n",
    "    print('All parameters in process_Shermaine.yaml: ' + str(config))\n",
    "\n",
    "    # Load raw data\n",
    "    medical = pd.read_csv(config.data.raw)\n",
    "\n",
    "    # Filter to above 0.2 resting BP\n",
    "    medical_clean = medical[medical['resting_BP'] > 0.2]\n",
    "\n",
    "    # Perform PyCaret setup\n",
    "    medical_setup = setup(data = medical_clean, \n",
    "                          target = config.setup.target, \n",
    "                          normalize = config.setup.norm, \n",
    "                          normalize_method=config.setup.norm_mtd, \n",
    "                          train_size = config.setup.trainsize, \n",
    "                          remove_outliers=config.setup.rmoutlier, \n",
    "                          bin_numeric_features=config.setup.bin,\n",
    "                          session_id=config.setup.session, \n",
    "                          log_experiment=config.setup.logexp, \n",
    "                          experiment_name=config.setup.expname, \n",
    "                          fold=config.setup.fold\n",
    "                         )\n",
    "    \n",
    "    # Print features information\n",
    "    print(f'Numeric features: {medical_setup._fxs[\"Numeric\"]}')\n",
    "    print(f'Categorical features: {medical_setup._fxs[\"Categorical\"]}')\n",
    "    print(f'Ordinal features: {medical_setup._fxs[\"Ordinal\"]}')\n",
    "\n",
    "    # Get transformed dataset\n",
    "    df = medical_setup.get_config('dataset_transformed')\n",
    "    # print('Processed Data: ', df)\n",
    "\n",
    "    # Save processed data\n",
    "    file_name = 'medical_processed.csv'\n",
    "    full_file = os.path.join(config.data.ppath, file_name)\n",
    "    df.to_csv(full_file, index=False)\n",
    "    \n",
    "    print(f'Data was processed and written at {full_file}.')\n",
    "\n",
    "    # Compare models (excluding specified models)\n",
    "    best = compare_models()\n",
    "    best = create_model('et')   #why et\n",
    "    print(best)\n",
    "\n",
    "    # Tune models\n",
    "    tuned_best = tune_model(best, return_tuner=True) \n",
    "    best_tuned_model = tuned_best[0]  # Extract the best tuned model from the tuple\n",
    "    print(best_tuned_model)\n",
    "\n",
    "    # predict on test set\n",
    "    best_pred = predict_model(best_tuned_model)\n",
    "    print(best_pred)\n",
    "    \n",
    "    evaluate_model(best_tuned_model)\n",
    "\n",
    "process_train()"
   ]
  },
  {
   "cell_type": "code",
   "execution_count": null,
   "id": "49fa3d85",
   "metadata": {},
   "outputs": [],
   "source": [
    "import pandas as pd\n",
    "import numpy as np\n",
    "import matplotlib.pyplot as plt\n",
    "import seaborn as sns\n",
    "from pycaret.regression import *\n",
    "\n",
    "import mlflow\n",
    "import mlflow.sklearn\n",
    "from sklearn.metrics import mean_absolute_error, mean_squared_error, r2_score\n",
    "\n",
    "import os\n",
    "import hydra\n",
    "from omegaconf import DictConfig\n",
    "from hydra.experimental import compose, initialize_config_dir"
   ]
  },
  {
   "cell_type": "code",
   "execution_count": null,
   "id": "d43afb05",
   "metadata": {},
   "outputs": [],
   "source": []
  }
 ],
 "metadata": {
  "kernelspec": {
   "display_name": "Python 3 (ipykernel)",
   "language": "python",
   "name": "python3"
  },
  "language_info": {
   "codemirror_mode": {
    "name": "ipython",
    "version": 3
   },
   "file_extension": ".py",
   "mimetype": "text/x-python",
   "name": "python",
   "nbconvert_exporter": "python",
   "pygments_lexer": "ipython3",
   "version": "3.9.13"
  }
 },
 "nbformat": 4,
 "nbformat_minor": 5
}
